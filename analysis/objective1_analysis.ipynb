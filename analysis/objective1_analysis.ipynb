{
 "cells": [
  {
   "cell_type": "code",
   "execution_count": 1,
   "metadata": {},
   "outputs": [],
   "source": [
    "import os.path\n",
    "import re\n",
    "\n",
    "import pandas as pd\n",
    "import numpy as np\n",
    "\n",
    "from scipy.cluster.vq import kmeans\n",
    "from sklearn.cluster import KMeans"
   ]
  },
  {
   "attachments": {},
   "cell_type": "markdown",
   "metadata": {},
   "source": [
    "Load the data and pre-process it."
   ]
  },
  {
   "cell_type": "code",
   "execution_count": 2,
   "metadata": {},
   "outputs": [
    {
     "name": "stdout",
     "output_type": "stream",
     "text": [
      "             specs1\n",
      "count  43219.000000\n",
      "mean       0.064918\n",
      "std        0.029648\n",
      "min        0.017000\n",
      "25%        0.050000\n",
      "50%        0.059000\n",
      "75%        0.070000\n",
      "max        0.636000\n",
      "    make     model                      specs  specs1\n",
      "0  acura  acura-cl         1997 Acura CL 2.2    0.047\n",
      "1  acura  acura-cl         1998 Acura CL 2.3    0.049\n",
      "2  acura  acura-cl  1998 Acura CL 2.3 Premium   0.049\n",
      "3  acura  acura-cl         1999 Acura CL 2.3    0.049\n",
      "4  acura  acura-cl         1997 Acura CL 3.0    0.062\n"
     ]
    }
   ],
   "source": [
    "FILEPATH = os.path.abspath(\"../data/2023-03-25_22hr_29min_ptwr_data.tsv\")\n",
    "df = pd.read_csv(FILEPATH, sep=\"\\t\")\n",
    "\n",
    "MAKE = \"make\"\n",
    "MODEL = \"model\"\n",
    "SPECS = \"specs\"\n",
    "\n",
    "CLEAN_MAKE = re.compile(r\"((/make/)|(\\-power\\-to\\-weight\\-ratio\\-stats))\")\n",
    "CLEAN_MODEL = re.compile(r\"(/model/)\")\n",
    "CLEAN_SPECS = re.compile(r\"(\\\\t|\\\\n)\")\n",
    "\n",
    "df[MAKE] = df[MAKE].apply(lambda x: CLEAN_MAKE.sub(\"\", x))\n",
    "df[MODEL] = df[MODEL].apply(lambda x: CLEAN_MODEL.sub(\"\", x))\n",
    "df[SPECS] = df[SPECS].apply(lambda x: CLEAN_SPECS.sub(\"\", x))\n",
    "\n",
    "SEPARATOR = \":\"\n",
    "SPECS1 = \"specs1\"\n",
    "df[SPECS1] = df[SPECS].apply(lambda x: float(x.split(SEPARATOR)[-1]))\n",
    "df[SPECS] = df[SPECS].apply(lambda x: SEPARATOR.join((x.split(SEPARATOR)[:-1])))\n",
    "\n",
    "print(df.describe())\n",
    "print(df.head())"
   ]
  },
  {
   "attachments": {},
   "cell_type": "markdown",
   "metadata": {},
   "source": [
    "# Attempt 1: Mean"
   ]
  },
  {
   "attachments": {},
   "cell_type": "markdown",
   "metadata": {},
   "source": [
    "Create a discriminant based upon being above or below the mean."
   ]
  },
  {
   "cell_type": "code",
   "execution_count": 3,
   "metadata": {},
   "outputs": [
    {
     "name": "stdout",
     "output_type": "stream",
     "text": [
      "0.06491797589023347\n"
     ]
    }
   ],
   "source": [
    "mean = np.mean(df[SPECS1])\n",
    "print(mean)"
   ]
  },
  {
   "attachments": {},
   "cell_type": "markdown",
   "metadata": {},
   "source": [
    "# Attempt 2: Clustering"
   ]
  },
  {
   "attachments": {},
   "cell_type": "markdown",
   "metadata": {},
   "source": [
    "## K-Means Clustering"
   ]
  },
  {
   "attachments": {},
   "cell_type": "markdown",
   "metadata": {},
   "source": [
    "Clustering with k=2 because we want 'high power to weight ratio' vs 'low power to weight ratio', just those two."
   ]
  },
  {
   "cell_type": "code",
   "execution_count": 4,
   "metadata": {},
   "outputs": [],
   "source": [
    "K = 2"
   ]
  },
  {
   "attachments": {},
   "cell_type": "markdown",
   "metadata": {},
   "source": [
    "### Scipy"
   ]
  },
  {
   "cell_type": "code",
   "execution_count": 5,
   "metadata": {},
   "outputs": [
    {
     "name": "stdout",
     "output_type": "stream",
     "text": [
      "[0.10406804 0.0549868 ]\n"
     ]
    }
   ],
   "source": [
    "scipy_centroids, distortion = kmeans(df[SPECS1], K)\n",
    "print(scipy_centroids)"
   ]
  },
  {
   "attachments": {},
   "cell_type": "markdown",
   "metadata": {},
   "source": [
    "### Sklearn (kmeans++)"
   ]
  },
  {
   "cell_type": "code",
   "execution_count": 6,
   "metadata": {},
   "outputs": [
    {
     "name": "stdout",
     "output_type": "stream",
     "text": [
      "[[0.05921039]\n",
      " [0.14489163]]\n"
     ]
    }
   ],
   "source": [
    "X = df[SPECS1].to_numpy().reshape(-1,1)\n",
    "cf = KMeans(n_clusters=K, n_init='auto').fit(X)\n",
    "sklearn_centroids = cf.cluster_centers_\n",
    "print(sklearn_centroids)"
   ]
  }
 ],
 "metadata": {
  "kernelspec": {
   "display_name": ".venv",
   "language": "python",
   "name": "python3"
  },
  "language_info": {
   "codemirror_mode": {
    "name": "ipython",
    "version": 3
   },
   "file_extension": ".py",
   "mimetype": "text/x-python",
   "name": "python",
   "nbconvert_exporter": "python",
   "pygments_lexer": "ipython3",
   "version": "3.9.6"
  },
  "orig_nbformat": 4
 },
 "nbformat": 4,
 "nbformat_minor": 2
}
