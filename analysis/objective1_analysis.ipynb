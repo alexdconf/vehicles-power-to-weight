{
 "cells": [
  {
   "cell_type": "code",
   "execution_count": 1,
   "metadata": {},
   "outputs": [],
   "source": [
    "import os.path\n",
    "import re\n",
    "\n",
    "import pandas as pd\n",
    "import numpy as np\n",
    "import seaborn as sns\n",
    "\n",
    "from scipy.cluster.vq import kmeans, kmeans2\n",
    "from sklearn.cluster import KMeans"
   ]
  },
  {
   "attachments": {},
   "cell_type": "markdown",
   "metadata": {},
   "source": [
    "Load the data and pre-process it."
   ]
  },
  {
   "cell_type": "code",
   "execution_count": 2,
   "metadata": {},
   "outputs": [
    {
     "name": "stdout",
     "output_type": "stream",
     "text": [
      "             specs1\n",
      "count  43219.000000\n",
      "mean       0.064918\n",
      "std        0.029648\n",
      "min        0.017000\n",
      "25%        0.050000\n",
      "50%        0.059000\n",
      "75%        0.070000\n",
      "max        0.636000\n",
      "    make     model                      specs  specs1\n",
      "0  acura  acura-cl         1997 Acura CL 2.2    0.047\n",
      "1  acura  acura-cl         1998 Acura CL 2.3    0.049\n",
      "2  acura  acura-cl  1998 Acura CL 2.3 Premium   0.049\n",
      "3  acura  acura-cl         1999 Acura CL 2.3    0.049\n",
      "4  acura  acura-cl         1997 Acura CL 3.0    0.062\n"
     ]
    }
   ],
   "source": [
    "FILEPATH = os.path.abspath(\"../data/2023-03-25_22hr_29min_ptwr_data.tsv\")\n",
    "df = pd.read_csv(FILEPATH, sep=\"\\t\")\n",
    "\n",
    "MAKE = \"make\"\n",
    "MODEL = \"model\"\n",
    "SPECS = \"specs\"\n",
    "\n",
    "CLEAN_MAKE = re.compile(r\"((/make/)|(\\-power\\-to\\-weight\\-ratio\\-stats))\")\n",
    "CLEAN_MODEL = re.compile(r\"(/model/)\")\n",
    "CLEAN_SPECS = re.compile(r\"(\\\\t|\\\\n)\")\n",
    "\n",
    "df[MAKE] = df[MAKE].apply(lambda x: CLEAN_MAKE.sub(\"\", x))\n",
    "df[MODEL] = df[MODEL].apply(lambda x: CLEAN_MODEL.sub(\"\", x))\n",
    "df[SPECS] = df[SPECS].apply(lambda x: CLEAN_SPECS.sub(\"\", x))\n",
    "\n",
    "SEPARATOR = \":\"\n",
    "SPECS1 = \"specs1\"\n",
    "df[SPECS1] = df[SPECS].apply(lambda x: float(x.split(SEPARATOR)[-1]))\n",
    "df[SPECS] = df[SPECS].apply(lambda x: SEPARATOR.join((x.split(SEPARATOR)[:-1])))\n",
    "\n",
    "print(df.describe())\n",
    "print(df.head())"
   ]
  },
  {
   "attachments": {},
   "cell_type": "markdown",
   "metadata": {},
   "source": [
    "# Attempt 1: Mean"
   ]
  },
  {
   "attachments": {},
   "cell_type": "markdown",
   "metadata": {},
   "source": [
    "Create a discriminant based upon being above or below the mean."
   ]
  },
  {
   "cell_type": "code",
   "execution_count": 3,
   "metadata": {},
   "outputs": [
    {
     "name": "stdout",
     "output_type": "stream",
     "text": [
      "0.06491797589023347\n"
     ]
    }
   ],
   "source": [
    "mean = np.mean(df[SPECS1])\n",
    "print(mean)"
   ]
  },
  {
   "cell_type": "markdown",
   "metadata": {},
   "source": [
    "# Attemp 2: Median"
   ]
  },
  {
   "cell_type": "markdown",
   "metadata": {},
   "source": [
    "Create a discriminant based upon being above or below the median."
   ]
  },
  {
   "cell_type": "code",
   "execution_count": 4,
   "metadata": {},
   "outputs": [
    {
     "name": "stdout",
     "output_type": "stream",
     "text": [
      "0.059\n"
     ]
    }
   ],
   "source": [
    "median = np.median(df[SPECS1])\n",
    "print(median)"
   ]
  },
  {
   "attachments": {},
   "cell_type": "markdown",
   "metadata": {},
   "source": [
    "# Attempt 3: Clustering"
   ]
  },
  {
   "attachments": {},
   "cell_type": "markdown",
   "metadata": {},
   "source": [
    "## K-Means Clustering"
   ]
  },
  {
   "attachments": {},
   "cell_type": "markdown",
   "metadata": {},
   "source": [
    "Clustering with k=2 because we want 'high power to weight ratio' vs 'low power to weight ratio', just those two.\n",
    "Create a discriminant based upon which centroid a datum is closer to."
   ]
  },
  {
   "cell_type": "code",
   "execution_count": 5,
   "metadata": {},
   "outputs": [],
   "source": [
    "K = 2"
   ]
  },
  {
   "attachments": {},
   "cell_type": "markdown",
   "metadata": {},
   "source": [
    "### Scipy kmeans"
   ]
  },
  {
   "cell_type": "code",
   "execution_count": 6,
   "metadata": {},
   "outputs": [
    {
     "name": "stdout",
     "output_type": "stream",
     "text": [
      "[0.10053996 0.05440708]\n"
     ]
    }
   ],
   "source": [
    "kmeans_centroids, distortion = kmeans(df[SPECS1], K)\n",
    "print(kmeans_centroids)"
   ]
  },
  {
   "cell_type": "markdown",
   "metadata": {},
   "source": [
    "### Scipy kmeans2"
   ]
  },
  {
   "cell_type": "code",
   "execution_count": 7,
   "metadata": {},
   "outputs": [
    {
     "name": "stdout",
     "output_type": "stream",
     "text": [
      "[0.14092449 0.05891207]\n"
     ]
    }
   ],
   "source": [
    "kmeans2_centroids, distortion2 = kmeans2(df[SPECS1], K)\n",
    "print(kmeans2_centroids)"
   ]
  },
  {
   "attachments": {},
   "cell_type": "markdown",
   "metadata": {},
   "source": [
    "### Sklearn KMeans"
   ]
  },
  {
   "cell_type": "code",
   "execution_count": 8,
   "metadata": {},
   "outputs": [
    {
     "name": "stdout",
     "output_type": "stream",
     "text": [
      "[[0.05891207]\n",
      " [0.14092449]]\n"
     ]
    }
   ],
   "source": [
    "X = df[SPECS1].to_numpy().reshape(-1,1)\n",
    "cf = KMeans(n_clusters=K, n_init='auto').fit(X)\n",
    "sklearn_centroids = cf.cluster_centers_\n",
    "print(sklearn_centroids)"
   ]
  },
  {
   "cell_type": "markdown",
   "metadata": {},
   "source": [
    "# Discussion: Attempts 1-3"
   ]
  },
  {
   "cell_type": "markdown",
   "metadata": {},
   "source": [
    "Now that I have some models I can start to classify the data and compare the results. A classification of '1' means 'high power-to-weight ratio' and a classification of '0' means 'low power-to-weight ratio'."
   ]
  },
  {
   "cell_type": "markdown",
   "metadata": {},
   "source": [
    "# Attempt 1 Classification: Mean Discriminator"
   ]
  },
  {
   "cell_type": "code",
   "execution_count": 9,
   "metadata": {},
   "outputs": [
    {
     "name": "stdout",
     "output_type": "stream",
     "text": [
      "\n"
     ]
    }
   ],
   "source": [
    "mean_discriminator = df.copy(deep=True)\n",
    "mean_discriminator[SPECS1].apply(lambda x: 1 if x > mean else 0)\n",
    "print()  # silence output from line above"
   ]
  },
  {
   "cell_type": "markdown",
   "metadata": {},
   "source": [
    "# Attempt 2 Classification: Median Discriminator"
   ]
  },
  {
   "cell_type": "code",
   "execution_count": 10,
   "metadata": {},
   "outputs": [
    {
     "name": "stdout",
     "output_type": "stream",
     "text": [
      "\n"
     ]
    }
   ],
   "source": [
    "median_discriminator = df.copy(deep=True)\n",
    "median_discriminator[SPECS1].apply(lambda x: 1 if x > median else 0)\n",
    "print()  # silence output from line above"
   ]
  },
  {
   "cell_type": "markdown",
   "metadata": {},
   "source": [
    "# Attempt 3 Classification: K-Means Clustering Discriminator"
   ]
  },
  {
   "cell_type": "markdown",
   "metadata": {},
   "source": [
    "### Scipy kmeans"
   ]
  },
  {
   "cell_type": "code",
   "execution_count": 11,
   "metadata": {},
   "outputs": [
    {
     "data": {
      "text/plain": [
       "0        1\n",
       "1        1\n",
       "2        1\n",
       "3        1\n",
       "4        1\n",
       "        ..\n",
       "43214    0\n",
       "43215    0\n",
       "43216    0\n",
       "43217    0\n",
       "43218    0\n",
       "Name: specs1, Length: 43219, dtype: int64"
      ]
     },
     "execution_count": 11,
     "metadata": {},
     "output_type": "execute_result"
    }
   ],
   "source": [
    "kmeans_discriminator = df.copy(deep=True)\n",
    "kmeans_discriminator[SPECS1].apply(lambda x: 0 if np.abs(x-kmeans_centroids[0]) < np.abs(x-kmeans_centroids[1]) else 1)  # 0th index represents low power-to-weight, 1st index represents high power-to-weight\n",
    "print()  # silence output from line above"
   ]
  },
  {
   "cell_type": "markdown",
   "metadata": {},
   "source": [
    "### Scipy kmeans2"
   ]
  },
  {
   "cell_type": "code",
   "execution_count": 12,
   "metadata": {},
   "outputs": [
    {
     "data": {
      "text/plain": [
       "0        0\n",
       "1        0\n",
       "2        0\n",
       "3        0\n",
       "4        0\n",
       "        ..\n",
       "43214    0\n",
       "43215    0\n",
       "43216    0\n",
       "43217    0\n",
       "43218    0\n",
       "Name: specs1, Length: 43219, dtype: int64"
      ]
     },
     "execution_count": 12,
     "metadata": {},
     "output_type": "execute_result"
    }
   ],
   "source": [
    "kmeans2_discriminator = df.copy(deep=True)\n",
    "kmeans2_discriminator[SPECS1].apply(lambda x: 0 if np.abs(x-kmeans2_centroids[1]) < np.abs(x-kmeans2_centroids[0]) else 1)  # 0th index represents high power-to-weight, 1st index represents low power-to-weight\n",
    "print()  # silence output from line above"
   ]
  },
  {
   "cell_type": "markdown",
   "metadata": {},
   "source": [
    "### Sklearn KMeans"
   ]
  },
  {
   "cell_type": "code",
   "execution_count": 16,
   "metadata": {},
   "outputs": [],
   "source": [
    "sklearn_discriminator = df.copy(deep=True)\n",
    "sklearn_discriminator[SPECS1] = cf.predict(sklearn_discriminator[SPECS1].array.reshape(-1,1))\n",
    "print()  # silence output from line above"
   ]
  }
 ],
 "metadata": {
  "kernelspec": {
   "display_name": ".venv",
   "language": "python",
   "name": "python3"
  },
  "language_info": {
   "codemirror_mode": {
    "name": "ipython",
    "version": 3
   },
   "file_extension": ".py",
   "mimetype": "text/x-python",
   "name": "python",
   "nbconvert_exporter": "python",
   "pygments_lexer": "ipython3",
   "version": "3.9.6"
  },
  "orig_nbformat": 4
 },
 "nbformat": 4,
 "nbformat_minor": 2
}
