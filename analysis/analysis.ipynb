{
 "cells": [
  {
   "cell_type": "code",
   "execution_count": 1,
   "metadata": {},
   "outputs": [],
   "source": [
    "import os\n",
    "import re\n",
    "\n",
    "import pandas as pd\n",
    "import numpy as np"
   ]
  },
  {
   "cell_type": "code",
   "execution_count": 2,
   "metadata": {},
   "outputs": [],
   "source": [
    "FILEPATH = os.path.abspath(\"../data/2023-03-25_22hr_29min_ptwr_data.tsv\")"
   ]
  },
  {
   "cell_type": "code",
   "execution_count": 3,
   "metadata": {},
   "outputs": [
    {
     "name": "stdout",
     "output_type": "stream",
     "text": [
      "                                          make                       model  \\\n",
      "count                                    43219                       43219   \n",
      "unique                                      75                        1701   \n",
      "top     /make/ford-power-to-weight-ratio-stats  /model/ford-f-350-crew-cab   \n",
      "freq                                      4516                         381   \n",
      "\n",
      "                                                    specs  \n",
      "count                                               43219  \n",
      "unique                                              43029  \n",
      "top     \\t\\t\\t2022 Toyota Tundra Hybrid CrewMax Platin...  \n",
      "freq                                                    4  \n",
      "                                      make            model  \\\n",
      "0  /make/acura-power-to-weight-ratio-stats  /model/acura-cl   \n",
      "1  /make/acura-power-to-weight-ratio-stats  /model/acura-cl   \n",
      "2  /make/acura-power-to-weight-ratio-stats  /model/acura-cl   \n",
      "3  /make/acura-power-to-weight-ratio-stats  /model/acura-cl   \n",
      "4  /make/acura-power-to-weight-ratio-stats  /model/acura-cl   \n",
      "\n",
      "                                     specs  \n",
      "0         \\t\\t\\t1997 Acura CL 2.2 \\t:0.047  \n",
      "1         \\t\\t\\t1998 Acura CL 2.3 \\t:0.049  \n",
      "2  \\t\\t\\t1998 Acura CL 2.3 Premium\\t:0.049  \n",
      "3         \\t\\t\\t1999 Acura CL 2.3 \\t:0.049  \n",
      "4         \\t\\t\\t1997 Acura CL 3.0 \\t:0.062  \n"
     ]
    }
   ],
   "source": [
    "df = pd.read_csv(FILEPATH, sep=\"\\t\")\n",
    "print(df.describe())\n",
    "print(df.head())"
   ]
  },
  {
   "cell_type": "code",
   "execution_count": 4,
   "metadata": {},
   "outputs": [],
   "source": [
    "MAKE = \"make\"\n",
    "MODEL = \"model\"\n",
    "SPECS = \"specs\""
   ]
  },
  {
   "cell_type": "code",
   "execution_count": 5,
   "metadata": {},
   "outputs": [
    {
     "name": "stdout",
     "output_type": "stream",
     "text": [
      "     make      model                            specs\n",
      "0   acura   acura-cl         1997 Acura CL 2.2 :0.047\n",
      "1   acura   acura-cl         1998 Acura CL 2.3 :0.049\n",
      "2   acura   acura-cl  1998 Acura CL 2.3 Premium:0.049\n",
      "3   acura   acura-cl         1999 Acura CL 2.3 :0.049\n",
      "4   acura   acura-cl         1997 Acura CL 3.0 :0.062\n",
      "5   acura   acura-cl         1998 Acura CL 3.0 :0.062\n",
      "6   acura   acura-cl  1998 Acura CL 3.0 Premium:0.062\n",
      "7   acura   acura-cl         1999 Acura CL 3.0 :0.062\n",
      "8   acura   acura-cl         2001 Acura CL 3.2 :0.065\n",
      "9   acura   acura-cl   2001 Acura CL 3.2 Type-S:0.074\n",
      "10  acura   acura-cl         2002 Acura CL 3.2 :0.065\n",
      "11  acura   acura-cl   2002 Acura CL 3.2 Type-S:0.074\n",
      "12  acura   acura-cl         2003 Acura CL 3.2 :0.065\n",
      "13  acura   acura-cl   2003 Acura CL 3.2 Type-S:0.074\n",
      "14  acura  acura-ilx           2013 Acura ILX  :0.052\n"
     ]
    }
   ],
   "source": [
    "CLEAN_MAKE = re.compile(r\"((/make/)|(\\-power\\-to\\-weight\\-ratio\\-stats))\")\n",
    "CLEAN_MODEL = re.compile(r\"(/model/)\")\n",
    "CLEAN_SPECS = re.compile(r\"(\\\\t)\")\n",
    "\n",
    "df[MAKE] = df[MAKE].apply(lambda x: CLEAN_MAKE.sub(\"\", x))\n",
    "df[MODEL] = df[MODEL].apply(lambda x: CLEAN_MODEL.sub(\"\", x))\n",
    "df[SPECS] = df[SPECS].apply(lambda x: CLEAN_SPECS.sub(\"\", x))\n",
    "\n",
    "print(df.head(15))"
   ]
  },
  {
   "cell_type": "code",
   "execution_count": 6,
   "metadata": {},
   "outputs": [
    {
     "name": "stdout",
     "output_type": "stream",
     "text": [
      "     make      model                      specs specs1\n",
      "0   acura   acura-cl         1997 Acura CL 2.2   0.047\n",
      "1   acura   acura-cl         1998 Acura CL 2.3   0.049\n",
      "2   acura   acura-cl  1998 Acura CL 2.3 Premium  0.049\n",
      "3   acura   acura-cl         1999 Acura CL 2.3   0.049\n",
      "4   acura   acura-cl         1997 Acura CL 3.0   0.062\n",
      "5   acura   acura-cl         1998 Acura CL 3.0   0.062\n",
      "6   acura   acura-cl  1998 Acura CL 3.0 Premium  0.062\n",
      "7   acura   acura-cl         1999 Acura CL 3.0   0.062\n",
      "8   acura   acura-cl         2001 Acura CL 3.2   0.065\n",
      "9   acura   acura-cl   2001 Acura CL 3.2 Type-S  0.074\n",
      "10  acura   acura-cl         2002 Acura CL 3.2   0.065\n",
      "11  acura   acura-cl   2002 Acura CL 3.2 Type-S  0.074\n",
      "12  acura   acura-cl         2003 Acura CL 3.2   0.065\n",
      "13  acura   acura-cl   2003 Acura CL 3.2 Type-S  0.074\n",
      "14  acura  acura-ilx           2013 Acura ILX    0.052\n"
     ]
    }
   ],
   "source": [
    "SEPARATOR = \":\"\n",
    "SPECS1 = \"specs1\"\n",
    "df[SPECS1] = df[SPECS].apply(lambda x: x.split(SEPARATOR)[1])\n",
    "df[SPECS] = df[SPECS].apply(lambda x: x.split(SEPARATOR)[0])\n",
    "print(df.head(15))"
   ]
  },
  {
   "cell_type": "code",
   "execution_count": null,
   "metadata": {},
   "outputs": [],
   "source": []
  }
 ],
 "metadata": {
  "kernelspec": {
   "display_name": "Python 3",
   "language": "python",
   "name": "python3"
  },
  "language_info": {
   "codemirror_mode": {
    "name": "ipython",
    "version": 3
   },
   "file_extension": ".py",
   "mimetype": "text/x-python",
   "name": "python",
   "nbconvert_exporter": "python",
   "pygments_lexer": "ipython3",
   "version": "3.10.10"
  },
  "orig_nbformat": 4
 },
 "nbformat": 4,
 "nbformat_minor": 2
}
