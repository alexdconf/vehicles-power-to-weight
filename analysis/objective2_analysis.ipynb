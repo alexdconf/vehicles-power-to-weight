{
 "cells": [
  {
   "cell_type": "code",
   "execution_count": 1,
   "metadata": {},
   "outputs": [],
   "source": [
    "import os.path\n",
    "import re\n",
    "\n",
    "import pandas as pd\n",
    "import numpy as np\n",
    "\n",
    "from scipy.cluster.vq import kmeans, kmeans2\n",
    "from sklearn.cluster import KMeans\n",
    "\n",
    "import matplotlib as plt\n",
    "import seaborn as sns"
   ]
  },
  {
   "cell_type": "markdown",
   "metadata": {},
   "source": [
    "Load the data and preprocess it."
   ]
  },
  {
   "cell_type": "code",
   "execution_count": 2,
   "metadata": {},
   "outputs": [
    {
     "name": "stdout",
     "output_type": "stream",
     "text": [
      "             specs1\n",
      "count  43219.000000\n",
      "mean       0.064918\n",
      "std        0.029648\n",
      "min        0.017000\n",
      "25%        0.050000\n",
      "50%        0.059000\n",
      "75%        0.070000\n",
      "max        0.636000\n",
      "    make     model                      specs  specs1\n",
      "0  acura  acura-cl         1997 Acura CL 2.2    0.047\n",
      "1  acura  acura-cl         1998 Acura CL 2.3    0.049\n",
      "2  acura  acura-cl  1998 Acura CL 2.3 Premium   0.049\n",
      "3  acura  acura-cl         1999 Acura CL 2.3    0.049\n",
      "4  acura  acura-cl         1997 Acura CL 3.0    0.062\n"
     ]
    }
   ],
   "source": [
    "FILEPATH = os.path.abspath(\"../data/2023-03-25_22hr_29min_ptwr_data.tsv\")\n",
    "df = pd.read_csv(FILEPATH, sep=\"\\t\")\n",
    "\n",
    "MAKE = \"make\"\n",
    "MODEL = \"model\"\n",
    "SPECS = \"specs\"\n",
    "\n",
    "CLEAN_MAKE = re.compile(r\"((/make/)|(\\-power\\-to\\-weight\\-ratio\\-stats))\")\n",
    "CLEAN_MODEL = re.compile(r\"(/model/)\")\n",
    "CLEAN_SPECS = re.compile(r\"(\\\\t|\\\\n)\")\n",
    "\n",
    "df[MAKE] = df[MAKE].apply(lambda x: CLEAN_MAKE.sub(\"\", x))\n",
    "df[MODEL] = df[MODEL].apply(lambda x: CLEAN_MODEL.sub(\"\", x))\n",
    "df[SPECS] = df[SPECS].apply(lambda x: CLEAN_SPECS.sub(\"\", x))\n",
    "\n",
    "SEPARATOR = \":\"\n",
    "SPECS1 = \"specs1\"\n",
    "df[SPECS1] = df[SPECS].apply(lambda x: float(x.split(SEPARATOR)[-1]))\n",
    "df[SPECS] = df[SPECS].apply(lambda x: SEPARATOR.join((x.split(SEPARATOR)[:-1])))\n",
    "\n",
    "print(df.describe())\n",
    "print(df.head())"
   ]
  },
  {
   "cell_type": "markdown",
   "metadata": {},
   "source": [
    "# Introduction"
   ]
  },
  {
   "cell_type": "markdown",
   "metadata": {},
   "source": [
    "I am going to rely upon classifiers which have discriminants calculated from the mean of the training data set and also what is calculated using the scipy library's kmeans2 clustering algorithm. I will use both of these techniques to model power-to-weight ratios per model year and assess the effectiveness when the data is partitioned in this way."
   ]
  },
  {
   "cell_type": "code",
   "execution_count": 3,
   "metadata": {},
   "outputs": [
    {
     "name": "stdout",
     "output_type": "stream",
     "text": [
      "0\n",
      "['1997' '1998' '1999' '2001' '2002' '2003' '2013' '2014' '2015' '2016'\n",
      " '2017' '2018' '2019' '2020' '2021' '2022' '1992' '2000' '1994' '1995'\n",
      " '1996' '1993' '2004' '2005' '2006' '2007' '2008' '2009' '2010' '2011'\n",
      " '2012' '2023' '1991' '1987' '1988' '1989' '1990' '1986' '1978']\n"
     ]
    }
   ],
   "source": [
    "K = 2\n",
    "HIGH = 1\n",
    "LOW = 0\n",
    "NUM_FOLDS = 7\n",
    "\n",
    "MODEL_YEAR = \"model_year\"\n",
    "MATCH_MODEL_YEAR = re.compile(r\"[0-9]{4}\")\n",
    "df[MODEL_YEAR] = df[SPECS].apply(lambda x: MATCH_MODEL_YEAR.match(x).group(0))\n",
    "MODEL_YEARS = df[MODEL_YEAR]\n",
    "print(np.sum(MODEL_YEARS == None))  # check if regex matches every row\n",
    "MODEL_YEARS = MODEL_YEARS.unique()\n",
    "print(MODEL_YEARS)\n",
    "\n",
    "df = df.sample(frac=1)"
   ]
  },
  {
   "cell_type": "markdown",
   "metadata": {},
   "source": [
    "# Attempt 1 Classification: Mean Discriminator"
   ]
  },
  {
   "cell_type": "code",
   "execution_count": 4,
   "metadata": {},
   "outputs": [],
   "source": [
    "def mean_inference(df, mean):\n",
    "    result = df.apply(lambda x: HIGH if x > mean else LOW)\n",
    "    return result"
   ]
  },
  {
   "cell_type": "code",
   "execution_count": 5,
   "metadata": {},
   "outputs": [
    {
     "name": "stderr",
     "output_type": "stream",
     "text": [
      "/var/folders/46/zb1x3m8s65v53nd4fpkwrgfr0000gn/T/ipykernel_68113/3196397041.py:31: RuntimeWarning: invalid value encountered in scalar divide\n",
      "  accuracies.append((val[0]+val[1])/np.sum(val))\n"
     ]
    },
    {
     "data": {
      "text/plain": [
       "<Axes: xlabel='Accuracy', ylabel='Std'>"
      ]
     },
     "execution_count": 5,
     "metadata": {},
     "output_type": "execute_result"
    },
    {
     "data": {
      "image/png": "[encoded data removed]",
      "text/plain": [
       "<Figure size 640x480 with 1 Axes>"
      ]
     },
     "metadata": {},
     "output_type": "display_data"
    }
   ],
   "source": [
    "metrics_by_model_year = {}\n",
    "for year in MODEL_YEARS:\n",
    "    df2 = df[df[MODEL_YEAR] == year]\n",
    "    LENGTH = len(df2)\n",
    "    if LENGTH <= 2:\n",
    "        continue\n",
    "    mean_reference = mean_inference(df2[SPECS1], np.mean(df2[SPECS1]))\n",
    "\n",
    "    metrics = {}\n",
    "    for i in range(NUM_FOLDS):\n",
    "        test = df2.iloc[int(np.floor(LENGTH/NUM_FOLDS)*i):int(np.floor(LENGTH/NUM_FOLDS)*(i+1))]\n",
    "        train_values = df2[~df2.index.isin(test.index)][SPECS1]\n",
    "\n",
    "        mean = np.mean(train_values)\n",
    "        test_inferred = mean_inference(test[SPECS1], mean)\n",
    "        mean_reference_test_view = mean_reference.iloc[int(np.floor(LENGTH/NUM_FOLDS)*i):int(np.floor(LENGTH/NUM_FOLDS)*(i+1))]\n",
    "\n",
    "        # positive class is HIGH\n",
    "        tp = np.sum([True for x,y in zip(test_inferred,mean_reference_test_view) if x == y and x == HIGH])\n",
    "        tn = np.sum([True for x,y in zip(test_inferred,mean_reference_test_view) if x == y and x == LOW])\n",
    "        fp = np.sum([True for x,y in zip(test_inferred,mean_reference_test_view) if x != y and x == HIGH])\n",
    "        fn = np.sum([True for x,y in zip(test_inferred,mean_reference_test_view) if x != y and x == LOW])\n",
    "\n",
    "        metrics[str(i)] = [tp, tn, fp, fn]\n",
    "    metrics_by_model_year[year] = metrics\n",
    "\n",
    "metric_data_for_plot = []\n",
    "for year, metric in metrics_by_model_year.items():\n",
    "    accuracies = []\n",
    "    for key, val in metric.items():\n",
    "        accuracies.append((val[0]+val[1])/np.sum(val))\n",
    "    mean_accuracy_overall = np.mean(accuracies)\n",
    "    mean_std_overall = np.std(accuracies)\n",
    "    metric_data_for_plot.append((year, mean_accuracy_overall,mean_std_overall))\n",
    "df_plot = pd.DataFrame(metric_data_for_plot, columns=[MODEL_YEAR, \"Accuracy\", \"Std\"])\n",
    "\n",
    "sns.scatterplot(df_plot, x=\"Accuracy\", y=\"Std\")"
   ]
  },
  {
   "cell_type": "markdown",
   "metadata": {},
   "source": [
    "# Attempt 2 Classification: K-Means Clustering Discriminator"
   ]
  },
  {
   "cell_type": "markdown",
   "metadata": {},
   "source": [
    "### Scipy kmeans2"
   ]
  },
  {
   "cell_type": "code",
   "execution_count": 6,
   "metadata": {},
   "outputs": [],
   "source": [
    "def kmeans_inference(df, high_centroid, low_centroid):\n",
    "    result = df.apply(lambda x: HIGH if np.abs(high_centroid-x) < np.abs(low_centroid-x) else LOW)\n",
    "    return result"
   ]
  },
  {
   "cell_type": "code",
   "execution_count": 7,
   "metadata": {},
   "outputs": [
    {
     "name": "stderr",
     "output_type": "stream",
     "text": [
      "/Users/alexanderdeforge/Documents/projects/repos/vehicles-power-to-weight/.venv/lib/python3.9/site-packages/scipy/cluster/vq.py:602: UserWarning: One of the clusters is empty. Re-run kmeans with a different initialization.\n",
      "  warnings.warn(\"One of the clusters is empty. \"\n",
      "/var/folders/46/zb1x3m8s65v53nd4fpkwrgfr0000gn/T/ipykernel_68113/2158066835.py:36: RuntimeWarning: invalid value encountered in scalar divide\n",
      "  accuracies.append((val[0]+val[1])/np.sum(val))\n"
     ]
    },
    {
     "data": {
      "text/plain": [
       "<Axes: xlabel='Accuracy', ylabel='Std'>"
      ]
     },
     "execution_count": 7,
     "metadata": {},
     "output_type": "execute_result"
    },
    {
     "data": {
      "image/png": "[encoded data removed]",
      "text/plain": [
       "<Figure size 640x480 with 1 Axes>"
      ]
     },
     "metadata": {},
     "output_type": "display_data"
    }
   ],
   "source": [
    "metrics_by_model_year = {}\n",
    "for year in MODEL_YEARS:\n",
    "    df2 = df[df[MODEL_YEAR] == year]\n",
    "    LENGTH = len(df2)\n",
    "    if LENGTH <= 2:\n",
    "        continue\n",
    "    kmeans2_centroids, distortion2 = kmeans2(df2[SPECS1], K)\n",
    "    high_kmeans2_centroid = kmeans2_centroids[1] if kmeans2_centroids[1] > kmeans2_centroids[0] else kmeans2_centroids[0]\n",
    "    low_kmeans2_centroid = kmeans2_centroids[1] if kmeans2_centroids[1] < kmeans2_centroids[0] else kmeans2_centroids[0]\n",
    "    kmeans2_reference = kmeans_inference(df2[SPECS1], high_kmeans2_centroid, low_kmeans2_centroid)\n",
    "\n",
    "    metrics = {}\n",
    "    for i in range(NUM_FOLDS):\n",
    "        test = df2.iloc[int(np.floor(LENGTH/NUM_FOLDS)*i):int(np.floor(LENGTH/NUM_FOLDS)*(i+1))]\n",
    "        train_values = df2[~df2.index.isin(test.index)][SPECS1]\n",
    "\n",
    "        centroids, distortion = kmeans2(train_values, K)\n",
    "        high_centroid = centroids[1] if centroids[1] > centroids[0] else centroids[0]\n",
    "        low_centroid = centroids[1] if centroids[1] < centroids[0] else centroids[0]\n",
    "        test_inferred = kmeans_inference(test[SPECS1], high_centroid, low_centroid)\n",
    "        kmeans2_reference_test_view = kmeans2_reference.iloc[int(np.floor(LENGTH/NUM_FOLDS)*i):int(np.floor(LENGTH/NUM_FOLDS)*(i+1))]\n",
    "\n",
    "        # positive class is HIGH\n",
    "        tp = np.sum([True for x,y in zip(test_inferred,kmeans2_reference_test_view) if x == y and x == HIGH])\n",
    "        tn = np.sum([True for x,y in zip(test_inferred,kmeans2_reference_test_view) if x == y and x == LOW])\n",
    "        fp = np.sum([True for x,y in zip(test_inferred,kmeans2_reference_test_view) if x != y and x == HIGH])\n",
    "        fn = np.sum([True for x,y in zip(test_inferred,kmeans2_reference_test_view) if x != y and x == LOW])\n",
    "\n",
    "        metrics[str(i)] = [tp, tn, fp, fn]\n",
    "    metrics_by_model_year[year] = metrics\n",
    "\n",
    "metric_data_for_plot = []\n",
    "for year, metric in metrics_by_model_year.items():\n",
    "    accuracies = []\n",
    "    for key, val in metric.items():\n",
    "        accuracies.append((val[0]+val[1])/np.sum(val))\n",
    "    mean_accuracy_overall = np.mean(accuracies)\n",
    "    mean_std_overall = np.std(accuracies)\n",
    "    metric_data_for_plot.append((year, mean_accuracy_overall,mean_std_overall))\n",
    "df_plot = pd.DataFrame(metric_data_for_plot, columns=[MODEL_YEAR, \"Accuracy\", \"Std\"])\n",
    "\n",
    "sns.scatterplot(df_plot, x=\"Accuracy\", y=\"Std\")"
   ]
  },
  {
   "cell_type": "markdown",
   "metadata": {},
   "source": [
    "# Discussion: Classification Attempts 1-2"
   ]
  },
  {
   "cell_type": "markdown",
   "metadata": {},
   "source": [
    "In the charts above, we are looking for both high accuracy and low standard deviation as much as possible over all model years. Each data point is the average k-fold accuracy and standard deviation for the power-to-weight ratios in a given model year. It seems that the Scipy kmeans2 algorithm performed best (most of the dots are in the lower right-hand corner)."
   ]
  },
  {
   "cell_type": "markdown",
   "metadata": {},
   "source": [
    "# Answer for Objective 2"
   ]
  },
  {
   "cell_type": "markdown",
   "metadata": {},
   "source": [
    "The Scipy kmeans2 algorithm should be used for this data and this task. The ultimate goal, Objective 3, is to be able to predict high/low power-to-weight ratio as if this data were obtained in a realistic fashion year after year. More on that in the next notebook."
   ]
  }
 ],
 "metadata": {
  "kernelspec": {
   "display_name": ".venv",
   "language": "python",
   "name": "python3"
  },
  "language_info": {
   "codemirror_mode": {
    "name": "ipython",
    "version": 3
   },
   "file_extension": ".py",
   "mimetype": "text/x-python",
   "name": "python",
   "nbconvert_exporter": "python",
   "pygments_lexer": "ipython3",
   "version": "3.9.6"
  },
  "orig_nbformat": 4
 },
 "nbformat": 4,
 "nbformat_minor": 2
}
