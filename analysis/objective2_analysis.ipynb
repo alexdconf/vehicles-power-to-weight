{
 "cells": [
  {
   "cell_type": "code",
   "execution_count": null,
   "metadata": {},
   "outputs": [],
   "source": [
    "import os.path\n",
    "import re\n",
    "\n",
    "import pandas as pd\n",
    "import numpy as np\n",
    "\n",
    "from scipy.cluster.vq import kmeans, kmeans2\n",
    "from sklearn.cluster import KMeans"
   ]
  },
  {
   "cell_type": "markdown",
   "metadata": {},
   "source": [
    "Load the data and preprocess it."
   ]
  },
  {
   "cell_type": "code",
   "execution_count": null,
   "metadata": {},
   "outputs": [],
   "source": [
    "FILEPATH = os.path.abspath(\"../data/2023-03-25_22hr_29min_ptwr_data.tsv\")\n",
    "df = pd.read_csv(FILEPATH, sep=\"\\t\")\n",
    "\n",
    "MAKE = \"make\"\n",
    "MODEL = \"model\"\n",
    "SPECS = \"specs\"\n",
    "\n",
    "CLEAN_MAKE = re.compile(r\"((/make/)|(\\-power\\-to\\-weight\\-ratio\\-stats))\")\n",
    "CLEAN_MODEL = re.compile(r\"(/model/)\")\n",
    "CLEAN_SPECS = re.compile(r\"(\\\\t|\\\\n)\")\n",
    "\n",
    "df[MAKE] = df[MAKE].apply(lambda x: CLEAN_MAKE.sub(\"\", x))\n",
    "df[MODEL] = df[MODEL].apply(lambda x: CLEAN_MODEL.sub(\"\", x))\n",
    "df[SPECS] = df[SPECS].apply(lambda x: CLEAN_SPECS.sub(\"\", x))\n",
    "\n",
    "SEPARATOR = \":\"\n",
    "SPECS1 = \"specs1\"\n",
    "df[SPECS1] = df[SPECS].apply(lambda x: float(x.split(SEPARATOR)[-1]))\n",
    "df[SPECS] = df[SPECS].apply(lambda x: SEPARATOR.join((x.split(SEPARATOR)[:-1])))\n",
    "\n",
    "print(df.describe())\n",
    "print(df.head())"
   ]
  },
  {
   "cell_type": "markdown",
   "metadata": {},
   "source": [
    "# Introduction"
   ]
  },
  {
   "cell_type": "markdown",
   "metadata": {},
   "source": [
    "I am going to rely upon classifiers which have discriminants calculated from the mean of the training data set and also what is calculated using the scipy library's kmeans2 clustering algorithm. I will use both of these techniques to model power-to-weight ratios per model year and assess the effectiveness when the data is partitioned in this way."
   ]
  },
  {
   "cell_type": "markdown",
   "metadata": {},
   "source": [
    "# Attempt 1 Classification: Mean Discriminator"
   ]
  },
  {
   "cell_type": "code",
   "execution_count": null,
   "metadata": {},
   "outputs": [],
   "source": []
  }
 ],
 "metadata": {
  "language_info": {
   "name": "python"
  },
  "orig_nbformat": 4
 },
 "nbformat": 4,
 "nbformat_minor": 2
}
